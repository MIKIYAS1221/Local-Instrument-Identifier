{
 "cells": [
  {
   "cell_type": "code",
   "execution_count": 9,
   "id": "deba381b-b76a-4770-9e8f-5858852452f2",
   "metadata": {},
   "outputs": [],
   "source": [
    "import numpy as np\n",
    "import matplotlib.pyplot as plt\n",
    "import scipy.fftpack\n",
    "import wave\n",
    "from IPython.display import Audio\n",
    "\n",
    "def visualize_audio(path):\n",
    "    # Load audio signal\n",
    "    with wave.open(path, \"rb\") as wave_file:\n",
    "        signal = wave_file.readframes(wave_file.getnframes())\n",
    "        signal = np.frombuffer(signal, dtype=np.int16)\n",
    "\n",
    "    # Plot the time-domain signal\n",
    "    plt.figure(figsize=(12, 4))\n",
    "    plt.plot(signal, color='blue')\n",
    "    plt.xlabel(\"Sample Number\")\n",
    "    plt.ylabel(\"Amplitude\")\n",
    "    plt.title(\"Time-domain Signal\")\n",
    "\n",
    "    # Apply FFT to the audio signal\n",
    "    fft_signal = np.abs(scipy.fftpack.fft(signal))\n",
    "\n",
    "    # Plot the frequency-domain signal\n",
    "    plt.figure(figsize=(12, 4))\n",
    "    plt.plot(fft_signal, color='red')\n",
    "    plt.xlabel(\"Frequency Bin\")\n",
    "    plt.ylabel(\"Amplitude\")\n",
    "    plt.title(\"Frequency-domain Signal\")\n",
    "\n",
    "    plt.show()\n",
    "    \n",
    "def play_audio(path):\n",
    "    display(Audio(path))\n",
    "\n",
    "\n"
   ]
  },
  {
   "cell_type": "code",
   "execution_count": null,
   "id": "ee34fbfe-20a7-45b3-8e70-8df65ffd19c3",
   "metadata": {},
   "outputs": [],
   "source": []
  }
 ],
 "metadata": {
  "kernelspec": {
   "display_name": "Python 3 (ipykernel)",
   "language": "python",
   "name": "python3"
  },
  "language_info": {
   "codemirror_mode": {
    "name": "ipython",
    "version": 3
   },
   "file_extension": ".py",
   "mimetype": "text/x-python",
   "name": "python",
   "nbconvert_exporter": "python",
   "pygments_lexer": "ipython3",
   "version": "3.9.13"
  }
 },
 "nbformat": 4,
 "nbformat_minor": 5
}
